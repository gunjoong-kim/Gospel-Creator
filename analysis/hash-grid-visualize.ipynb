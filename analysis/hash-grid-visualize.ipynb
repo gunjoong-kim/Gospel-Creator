{
 "cells": [
  {
   "cell_type": "code",
   "execution_count": 2,
   "metadata": {},
   "outputs": [
    {
     "ename": "FileNotFoundError",
     "evalue": "[Errno 2] No such file or directory: '../output/test-simple-mlp-final/basketball/params.npy'",
     "output_type": "error",
     "traceback": [
      "\u001b[0;31m---------------------------------------------------------------------------\u001b[0m",
      "\u001b[0;31mFileNotFoundError\u001b[0m                         Traceback (most recent call last)",
      "\u001b[0;32m/tmp/ipykernel_490170/4009649136.py\u001b[0m in \u001b[0;36m<module>\u001b[0;34m\u001b[0m\n\u001b[1;32m      4\u001b[0m \u001b[0;34m\u001b[0m\u001b[0m\n\u001b[1;32m      5\u001b[0m \u001b[0;31m# Step 1: Load the npy file and extract the relevant data\u001b[0m\u001b[0;34m\u001b[0m\u001b[0;34m\u001b[0m\u001b[0;34m\u001b[0m\u001b[0m\n\u001b[0;32m----> 6\u001b[0;31m \u001b[0mparams\u001b[0m \u001b[0;34m=\u001b[0m \u001b[0mnp\u001b[0m\u001b[0;34m.\u001b[0m\u001b[0mload\u001b[0m\u001b[0;34m(\u001b[0m\u001b[0;34mf\"../output/test-simple-mlp-final/basketball/params.npy\"\u001b[0m\u001b[0;34m,\u001b[0m \u001b[0mallow_pickle\u001b[0m\u001b[0;34m=\u001b[0m\u001b[0;32mTrue\u001b[0m\u001b[0;34m)\u001b[0m\u001b[0;34m.\u001b[0m\u001b[0mitem\u001b[0m\u001b[0;34m(\u001b[0m\u001b[0;34m)\u001b[0m\u001b[0;34m\u001b[0m\u001b[0;34m\u001b[0m\u001b[0m\n\u001b[0m\u001b[1;32m      7\u001b[0m \u001b[0;34m\u001b[0m\u001b[0m\n\u001b[1;32m      8\u001b[0m \u001b[0;31m# Extract hash_table and mlp_head from params\u001b[0m\u001b[0;34m\u001b[0m\u001b[0;34m\u001b[0m\u001b[0;34m\u001b[0m\u001b[0m\n",
      "\u001b[0;32m~/anaconda3/envs/d3dg_enhanced/lib/python3.7/site-packages/numpy/lib/npyio.py\u001b[0m in \u001b[0;36mload\u001b[0;34m(file, mmap_mode, allow_pickle, fix_imports, encoding)\u001b[0m\n\u001b[1;32m    415\u001b[0m             \u001b[0mown_fid\u001b[0m \u001b[0;34m=\u001b[0m \u001b[0;32mFalse\u001b[0m\u001b[0;34m\u001b[0m\u001b[0;34m\u001b[0m\u001b[0m\n\u001b[1;32m    416\u001b[0m         \u001b[0;32melse\u001b[0m\u001b[0;34m:\u001b[0m\u001b[0;34m\u001b[0m\u001b[0;34m\u001b[0m\u001b[0m\n\u001b[0;32m--> 417\u001b[0;31m             \u001b[0mfid\u001b[0m \u001b[0;34m=\u001b[0m \u001b[0mstack\u001b[0m\u001b[0;34m.\u001b[0m\u001b[0menter_context\u001b[0m\u001b[0;34m(\u001b[0m\u001b[0mopen\u001b[0m\u001b[0;34m(\u001b[0m\u001b[0mos_fspath\u001b[0m\u001b[0;34m(\u001b[0m\u001b[0mfile\u001b[0m\u001b[0;34m)\u001b[0m\u001b[0;34m,\u001b[0m \u001b[0;34m\"rb\"\u001b[0m\u001b[0;34m)\u001b[0m\u001b[0;34m)\u001b[0m\u001b[0;34m\u001b[0m\u001b[0;34m\u001b[0m\u001b[0m\n\u001b[0m\u001b[1;32m    418\u001b[0m             \u001b[0mown_fid\u001b[0m \u001b[0;34m=\u001b[0m \u001b[0;32mTrue\u001b[0m\u001b[0;34m\u001b[0m\u001b[0;34m\u001b[0m\u001b[0m\n\u001b[1;32m    419\u001b[0m \u001b[0;34m\u001b[0m\u001b[0m\n",
      "\u001b[0;31mFileNotFoundError\u001b[0m: [Errno 2] No such file or directory: '../output/test-simple-mlp-final/basketball/params.npy'"
     ]
    }
   ],
   "source": [
    "import matplotlib.pyplot as plt\n",
    "import numpy as np\n",
    "import seaborn as sns\n",
    "\n",
    "# Step 1: Load the npy file and extract the relevant data\n",
    "params = np.load(f\"../output/test-simple-mlp-final/basketball/params.npy\", allow_pickle=True).item()\n",
    "\n",
    "# Extract hash_table and mlp_head from params\n",
    "hash_table = params[\"hash_table\"]\n",
    "mlp_head = params[\"mlp_head\"]\n",
    "\n",
    "# Step 2: Verify the shapes of the data (optional)\n",
    "print(\"Hash Table shape:\", hash_table.shape)\n",
    "print(\"MLP Head shape:\", mlp_head.shape)\n",
    "\n",
    "# Step 3: Function to plot heatmaps for each frame\n",
    "def plot_heatmap(data, title):\n",
    "    plt.figure(figsize=(10, 8))\n",
    "    sns.heatmap(data, cmap='viridis')\n",
    "    plt.title(title)\n",
    "    plt.show()\n",
    "\n",
    "# Step 4: Compute the difference between frame 0 and frames 1 to 29\n",
    "def compute_frame_difference_from_first(data):\n",
    "    first_frame = data[0]\n",
    "    differences = []\n",
    "    for i in range(1, data.shape[0]):  # Compare each frame with the first one\n",
    "        diff = data[i] - first_frame\n",
    "        differences.append(diff)\n",
    "    return np.array(differences)\n",
    "\n",
    "# Calculate differences for hash_table and mlp_head\n",
    "hash_diff_from_first = compute_frame_difference_from_first(hash_table)\n",
    "mlp_diff_from_first = compute_frame_difference_from_first(mlp_head)\n",
    "\n",
    "# # Step 5: Visualize the differences as heatmaps (1st to 29th frame vs 0th frame)\n",
    "for i in range(1, min(30, hash_diff_from_first.shape[0])):  # Limit to first 29 frames\n",
    "    if i != 1:\n",
    "        continue\n",
    "    # Plot heatmap for hash_table differences\n",
    "    plot_heatmap(hash_diff_from_first[i - 1].reshape(1, -1), f'Hash Table Difference - Frame {i} vs Frame 0')\n",
    "    \n",
    "    # Plot heatmap for mlp_head differences\n",
    "    plot_heatmap(mlp_diff_from_first[i - 1].reshape(1, -1), f'MLP Head Difference - Frame {i} vs Frame 0')\n",
    "\n",
    "# Step 6: Compute summary statistics of the differences\n",
    "def summarize_differences(diff_data):\n",
    "    avg_diff = np.mean(np.abs(diff_data), axis=1)  # Mean absolute difference for each frame\n",
    "    return avg_diff\n",
    "\n",
    "# Summarize differences for hash_table and mlp_head\n",
    "hash_diff_summary = summarize_differences(hash_diff_from_first)\n",
    "mlp_diff_summary = summarize_differences(mlp_diff_from_first)\n",
    "\n",
    "# Step 7: Plot the frame-by-frame difference summary\n",
    "plt.figure(figsize=(10, 5))\n",
    "plt.plot(range(1, min(30, hash_diff_summary.shape[0]) + 1), hash_diff_summary[:29], label='Hash Table Avg Difference', color='blue')\n",
    "plt.plot(range(1, min(30, mlp_diff_summary.shape[0]) + 1), mlp_diff_summary[:29], label='MLP Head Avg Difference', color='orange')\n",
    "plt.title('Average Frame Differences (Frames 1-29 vs Frame 0)')\n",
    "plt.xlabel('Frame Index')\n",
    "plt.ylabel('Average Absolute Difference')\n",
    "plt.legend()\n",
    "plt.show()\n",
    "\n",
    "\n",
    "differences = hash_table[1] - hash_table[0]\n",
    "plt.figure(figsize=(10, 6))\n",
    "plt.hist(differences.flatten(), bins=50, color='purple', alpha=0.7)\n",
    "plt.title('Distribution of Differences between Frame 0 and Frame 1')\n",
    "plt.xlabel('Difference Value')\n",
    "plt.ylabel('Frequency')\n",
    "plt.show()\n",
    "\n",
    "# print the number of difference that same to zero\n",
    "print(np.sum(differences == 0))\n"
   ]
  },
  {
   "cell_type": "code",
   "execution_count": null,
   "metadata": {},
   "outputs": [],
   "source": []
  },
  {
   "cell_type": "code",
   "execution_count": null,
   "metadata": {},
   "outputs": [],
   "source": []
  }
 ],
 "metadata": {
  "kernelspec": {
   "display_name": "d3dg_enhanced",
   "language": "python",
   "name": "python3"
  },
  "language_info": {
   "codemirror_mode": {
    "name": "ipython",
    "version": 3
   },
   "file_extension": ".py",
   "mimetype": "text/x-python",
   "name": "python",
   "nbconvert_exporter": "python",
   "pygments_lexer": "ipython3",
   "version": "3.7.16"
  }
 },
 "nbformat": 4,
 "nbformat_minor": 2
}
